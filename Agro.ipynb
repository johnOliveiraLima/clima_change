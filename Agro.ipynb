{
  "nbformat": 4,
  "nbformat_minor": 0,
  "metadata": {
    "colab": {
      "provenance": [],
      "mount_file_id": "1p-_tdWdJ8oL7dgPOM6rHS6ddhJ4OnlXN",
      "authorship_tag": "ABX9TyN3MRKA9ct0/KRc/rWIoVLC",
      "include_colab_link": true
    },
    "kernelspec": {
      "name": "python3",
      "display_name": "Python 3"
    },
    "language_info": {
      "name": "python"
    }
  },
  "cells": [
    {
      "cell_type": "markdown",
      "metadata": {
        "id": "view-in-github",
        "colab_type": "text"
      },
      "source": [
        "<a href=\"https://colab.research.google.com/github/johnOliveiraLima/clima_change/blob/main/Agro.ipynb\" target=\"_parent\"><img src=\"https://colab.research.google.com/assets/colab-badge.svg\" alt=\"Open In Colab\"/></a>"
      ]
    },
    {
      "cell_type": "code",
      "source": [
        "import pandas as pd\n",
        "import plotly.express as px\n",
        "import seaborn as sns\n",
        "import matplotlib.pyplot as plt"
      ],
      "metadata": {
        "id": "hluvOvINEf0X"
      },
      "execution_count": 5,
      "outputs": []
    },
    {
      "cell_type": "markdown",
      "source": [
        "# Base da dados do impacto do clima na agricultura"
      ],
      "metadata": {
        "id": "NSJetJPcJTGt"
      }
    },
    {
      "cell_type": "markdown",
      "source": [
        "## Leitura dos dados com Pandas"
      ],
      "metadata": {
        "id": "Elzf_nfmJfXo"
      }
    },
    {
      "cell_type": "code",
      "source": [
        "path = '/content/climate_change_impact_on_agriculture_2024.csv'"
      ],
      "metadata": {
        "id": "1VXODRvwGS2b"
      },
      "execution_count": 6,
      "outputs": []
    },
    {
      "cell_type": "code",
      "source": [
        "df = pd.read_csv(path)"
      ],
      "metadata": {
        "id": "aCrv7E8VH5a_"
      },
      "execution_count": 7,
      "outputs": []
    },
    {
      "cell_type": "markdown",
      "source": [
        "Tamanho do dataframe"
      ],
      "metadata": {
        "id": "kGlFM8QDJ5uy"
      }
    },
    {
      "cell_type": "markdown",
      "source": [
        "# Descrições das Variáveis"
      ],
      "metadata": {
        "id": "0xnNAXAv5yF-"
      }
    },
    {
      "cell_type": "markdown",
      "source": [
        "| **Variável**                           | **Descrição**                                                                                                 |\n",
        "|----------------------------------------|---------------------------------------------------------------------------------------------------------------|\n",
        "| **Year**                               | O ano em que os dados foram coletados ou analisados.                                                         |\n",
        "| **Country**                            | O nome do país onde os dados se referem.                                                                      |\n",
        "| **Region**                             | A região geográfica em que o país está localizado.                                                           |\n",
        "| **Crop_Type**                          | O tipo de cultura ou plantação que está sendo analisada.                                                     |\n",
        "| **Average_Temperature_C**             | A temperatura média (em graus Celsius) durante o período de cultivo.                                         |\n",
        "| **Total_Precipitation_mm**             | A quantidade total de precipitação (chuva) recebida, medida em milímetros.                                  |\n",
        "| **CO2_Emissions_MT**                  | A quantidade total de emissões de dióxido de carbono (CO₂) geradas, medida em milhões de toneladas (MT).    |\n",
        "| **Crop_Yield_MT_per_HA**              | A produtividade das culturas, medida em toneladas por hectare (HA).                                          |\n",
        "| **Extreme_Weather_Events**            | Eventos climáticos extremos que ocorreram durante o período analisado.                                       |\n",
        "| **Irrigation_Access_%**               | A porcentagem da área cultivada que tem acesso à irrigação.                                                  |\n",
        "| **Pesticide_Use_KG_per_HA**           | A quantidade de pesticidas utilizada por hectare, medida em quilogramas.                                     |\n",
        "| **Fertilizer_Use_KG_per_HA**          | A quantidade de fertilizantes utilizada por hectare, medida em quilogramas.                                   |\n",
        "| **Soil_Health_Index**                  | Um índice que representa a saúde do solo.                                                                     |\n",
        "| **Adaptation_Strategies**             | Estratégias adotadas para se adaptar a mudanças climáticas.                                                  |\n",
        "| **Economic_Impact_Million_USD**       | O impacto econômico estimado em milhões de dólares americanos.                                               |\n"
      ],
      "metadata": {
        "id": "Oz1-WEb85KIS"
      }
    },
    {
      "cell_type": "markdown",
      "source": [
        "# Descrições das Variáveis\n",
        "\n"
      ],
      "metadata": {
        "id": "4CDXjQBo2B0O"
      }
    },
    {
      "cell_type": "markdown",
      "source": [
        "# Análise dos dados"
      ],
      "metadata": {
        "id": "Dmid1WQk1vXY"
      }
    },
    {
      "cell_type": "code",
      "source": [
        "df.shape"
      ],
      "metadata": {
        "colab": {
          "base_uri": "https://localhost:8080/"
        },
        "id": "zHYdLh8nH93N",
        "outputId": "eb481610-2d16-46f7-dc6b-e4430d5fc592"
      },
      "execution_count": 8,
      "outputs": [
        {
          "output_type": "execute_result",
          "data": {
            "text/plain": [
              "(10000, 15)"
            ]
          },
          "metadata": {},
          "execution_count": 8
        }
      ]
    },
    {
      "cell_type": "code",
      "source": [
        "df.head(5)"
      ],
      "metadata": {
        "colab": {
          "base_uri": "https://localhost:8080/",
          "height": 278
        },
        "id": "5lD2ZlOmIc1u",
        "outputId": "3f16088f-8aea-49f3-867f-bb7151b1f9f2"
      },
      "execution_count": 9,
      "outputs": [
        {
          "output_type": "execute_result",
          "data": {
            "text/plain": [
              "   Year Country         Region  Crop_Type  Average_Temperature_C  \\\n",
              "0  2001   India    West Bengal       Corn                   1.55   \n",
              "1  2024   China          North       Corn                   3.23   \n",
              "2  2001  France  Ile-de-France      Wheat                  21.11   \n",
              "3  2001  Canada       Prairies     Coffee                  27.85   \n",
              "4  1998   India     Tamil Nadu  Sugarcane                   2.19   \n",
              "\n",
              "   Total_Precipitation_mm  CO2_Emissions_MT  Crop_Yield_MT_per_HA  \\\n",
              "0                  447.06             15.22                 1.737   \n",
              "1                 2913.57             29.82                 1.737   \n",
              "2                 1301.74             25.75                 1.719   \n",
              "3                 1154.36             13.91                 3.890   \n",
              "4                 1627.48             11.81                 1.080   \n",
              "\n",
              "   Extreme_Weather_Events  Irrigation_Access_%  Pesticide_Use_KG_per_HA  \\\n",
              "0                       8                14.54                    10.08   \n",
              "1                       8                11.05                    33.06   \n",
              "2                       5                84.42                    27.41   \n",
              "3                       5                94.06                    14.38   \n",
              "4                       9                95.75                    44.35   \n",
              "\n",
              "   Fertilizer_Use_KG_per_HA  Soil_Health_Index Adaptation_Strategies  \\\n",
              "0                     14.78              83.25      Water Management   \n",
              "1                     23.25              54.02         Crop Rotation   \n",
              "2                     65.53              67.78      Water Management   \n",
              "3                     87.58              91.39         No Adaptation   \n",
              "4                     88.08              49.61         Crop Rotation   \n",
              "\n",
              "   Economic_Impact_Million_USD  \n",
              "0                       808.13  \n",
              "1                       616.22  \n",
              "2                       796.96  \n",
              "3                       790.32  \n",
              "4                       401.72  "
            ],
            "text/html": [
              "\n",
              "  <div id=\"df-c21dbb25-8f8b-4979-b87e-fbf4cf256d08\" class=\"colab-df-container\">\n",
              "    <div>\n",
              "<style scoped>\n",
              "    .dataframe tbody tr th:only-of-type {\n",
              "        vertical-align: middle;\n",
              "    }\n",
              "\n",
              "    .dataframe tbody tr th {\n",
              "        vertical-align: top;\n",
              "    }\n",
              "\n",
              "    .dataframe thead th {\n",
              "        text-align: right;\n",
              "    }\n",
              "</style>\n",
              "<table border=\"1\" class=\"dataframe\">\n",
              "  <thead>\n",
              "    <tr style=\"text-align: right;\">\n",
              "      <th></th>\n",
              "      <th>Year</th>\n",
              "      <th>Country</th>\n",
              "      <th>Region</th>\n",
              "      <th>Crop_Type</th>\n",
              "      <th>Average_Temperature_C</th>\n",
              "      <th>Total_Precipitation_mm</th>\n",
              "      <th>CO2_Emissions_MT</th>\n",
              "      <th>Crop_Yield_MT_per_HA</th>\n",
              "      <th>Extreme_Weather_Events</th>\n",
              "      <th>Irrigation_Access_%</th>\n",
              "      <th>Pesticide_Use_KG_per_HA</th>\n",
              "      <th>Fertilizer_Use_KG_per_HA</th>\n",
              "      <th>Soil_Health_Index</th>\n",
              "      <th>Adaptation_Strategies</th>\n",
              "      <th>Economic_Impact_Million_USD</th>\n",
              "    </tr>\n",
              "  </thead>\n",
              "  <tbody>\n",
              "    <tr>\n",
              "      <th>0</th>\n",
              "      <td>2001</td>\n",
              "      <td>India</td>\n",
              "      <td>West Bengal</td>\n",
              "      <td>Corn</td>\n",
              "      <td>1.55</td>\n",
              "      <td>447.06</td>\n",
              "      <td>15.22</td>\n",
              "      <td>1.737</td>\n",
              "      <td>8</td>\n",
              "      <td>14.54</td>\n",
              "      <td>10.08</td>\n",
              "      <td>14.78</td>\n",
              "      <td>83.25</td>\n",
              "      <td>Water Management</td>\n",
              "      <td>808.13</td>\n",
              "    </tr>\n",
              "    <tr>\n",
              "      <th>1</th>\n",
              "      <td>2024</td>\n",
              "      <td>China</td>\n",
              "      <td>North</td>\n",
              "      <td>Corn</td>\n",
              "      <td>3.23</td>\n",
              "      <td>2913.57</td>\n",
              "      <td>29.82</td>\n",
              "      <td>1.737</td>\n",
              "      <td>8</td>\n",
              "      <td>11.05</td>\n",
              "      <td>33.06</td>\n",
              "      <td>23.25</td>\n",
              "      <td>54.02</td>\n",
              "      <td>Crop Rotation</td>\n",
              "      <td>616.22</td>\n",
              "    </tr>\n",
              "    <tr>\n",
              "      <th>2</th>\n",
              "      <td>2001</td>\n",
              "      <td>France</td>\n",
              "      <td>Ile-de-France</td>\n",
              "      <td>Wheat</td>\n",
              "      <td>21.11</td>\n",
              "      <td>1301.74</td>\n",
              "      <td>25.75</td>\n",
              "      <td>1.719</td>\n",
              "      <td>5</td>\n",
              "      <td>84.42</td>\n",
              "      <td>27.41</td>\n",
              "      <td>65.53</td>\n",
              "      <td>67.78</td>\n",
              "      <td>Water Management</td>\n",
              "      <td>796.96</td>\n",
              "    </tr>\n",
              "    <tr>\n",
              "      <th>3</th>\n",
              "      <td>2001</td>\n",
              "      <td>Canada</td>\n",
              "      <td>Prairies</td>\n",
              "      <td>Coffee</td>\n",
              "      <td>27.85</td>\n",
              "      <td>1154.36</td>\n",
              "      <td>13.91</td>\n",
              "      <td>3.890</td>\n",
              "      <td>5</td>\n",
              "      <td>94.06</td>\n",
              "      <td>14.38</td>\n",
              "      <td>87.58</td>\n",
              "      <td>91.39</td>\n",
              "      <td>No Adaptation</td>\n",
              "      <td>790.32</td>\n",
              "    </tr>\n",
              "    <tr>\n",
              "      <th>4</th>\n",
              "      <td>1998</td>\n",
              "      <td>India</td>\n",
              "      <td>Tamil Nadu</td>\n",
              "      <td>Sugarcane</td>\n",
              "      <td>2.19</td>\n",
              "      <td>1627.48</td>\n",
              "      <td>11.81</td>\n",
              "      <td>1.080</td>\n",
              "      <td>9</td>\n",
              "      <td>95.75</td>\n",
              "      <td>44.35</td>\n",
              "      <td>88.08</td>\n",
              "      <td>49.61</td>\n",
              "      <td>Crop Rotation</td>\n",
              "      <td>401.72</td>\n",
              "    </tr>\n",
              "  </tbody>\n",
              "</table>\n",
              "</div>\n",
              "    <div class=\"colab-df-buttons\">\n",
              "\n",
              "  <div class=\"colab-df-container\">\n",
              "    <button class=\"colab-df-convert\" onclick=\"convertToInteractive('df-c21dbb25-8f8b-4979-b87e-fbf4cf256d08')\"\n",
              "            title=\"Convert this dataframe to an interactive table.\"\n",
              "            style=\"display:none;\">\n",
              "\n",
              "  <svg xmlns=\"http://www.w3.org/2000/svg\" height=\"24px\" viewBox=\"0 -960 960 960\">\n",
              "    <path d=\"M120-120v-720h720v720H120Zm60-500h600v-160H180v160Zm220 220h160v-160H400v160Zm0 220h160v-160H400v160ZM180-400h160v-160H180v160Zm440 0h160v-160H620v160ZM180-180h160v-160H180v160Zm440 0h160v-160H620v160Z\"/>\n",
              "  </svg>\n",
              "    </button>\n",
              "\n",
              "  <style>\n",
              "    .colab-df-container {\n",
              "      display:flex;\n",
              "      gap: 12px;\n",
              "    }\n",
              "\n",
              "    .colab-df-convert {\n",
              "      background-color: #E8F0FE;\n",
              "      border: none;\n",
              "      border-radius: 50%;\n",
              "      cursor: pointer;\n",
              "      display: none;\n",
              "      fill: #1967D2;\n",
              "      height: 32px;\n",
              "      padding: 0 0 0 0;\n",
              "      width: 32px;\n",
              "    }\n",
              "\n",
              "    .colab-df-convert:hover {\n",
              "      background-color: #E2EBFA;\n",
              "      box-shadow: 0px 1px 2px rgba(60, 64, 67, 0.3), 0px 1px 3px 1px rgba(60, 64, 67, 0.15);\n",
              "      fill: #174EA6;\n",
              "    }\n",
              "\n",
              "    .colab-df-buttons div {\n",
              "      margin-bottom: 4px;\n",
              "    }\n",
              "\n",
              "    [theme=dark] .colab-df-convert {\n",
              "      background-color: #3B4455;\n",
              "      fill: #D2E3FC;\n",
              "    }\n",
              "\n",
              "    [theme=dark] .colab-df-convert:hover {\n",
              "      background-color: #434B5C;\n",
              "      box-shadow: 0px 1px 3px 1px rgba(0, 0, 0, 0.15);\n",
              "      filter: drop-shadow(0px 1px 2px rgba(0, 0, 0, 0.3));\n",
              "      fill: #FFFFFF;\n",
              "    }\n",
              "  </style>\n",
              "\n",
              "    <script>\n",
              "      const buttonEl =\n",
              "        document.querySelector('#df-c21dbb25-8f8b-4979-b87e-fbf4cf256d08 button.colab-df-convert');\n",
              "      buttonEl.style.display =\n",
              "        google.colab.kernel.accessAllowed ? 'block' : 'none';\n",
              "\n",
              "      async function convertToInteractive(key) {\n",
              "        const element = document.querySelector('#df-c21dbb25-8f8b-4979-b87e-fbf4cf256d08');\n",
              "        const dataTable =\n",
              "          await google.colab.kernel.invokeFunction('convertToInteractive',\n",
              "                                                    [key], {});\n",
              "        if (!dataTable) return;\n",
              "\n",
              "        const docLinkHtml = 'Like what you see? Visit the ' +\n",
              "          '<a target=\"_blank\" href=https://colab.research.google.com/notebooks/data_table.ipynb>data table notebook</a>'\n",
              "          + ' to learn more about interactive tables.';\n",
              "        element.innerHTML = '';\n",
              "        dataTable['output_type'] = 'display_data';\n",
              "        await google.colab.output.renderOutput(dataTable, element);\n",
              "        const docLink = document.createElement('div');\n",
              "        docLink.innerHTML = docLinkHtml;\n",
              "        element.appendChild(docLink);\n",
              "      }\n",
              "    </script>\n",
              "  </div>\n",
              "\n",
              "\n",
              "<div id=\"df-bd1a4c74-5524-42f9-8276-b148d008714a\">\n",
              "  <button class=\"colab-df-quickchart\" onclick=\"quickchart('df-bd1a4c74-5524-42f9-8276-b148d008714a')\"\n",
              "            title=\"Suggest charts\"\n",
              "            style=\"display:none;\">\n",
              "\n",
              "<svg xmlns=\"http://www.w3.org/2000/svg\" height=\"24px\"viewBox=\"0 0 24 24\"\n",
              "     width=\"24px\">\n",
              "    <g>\n",
              "        <path d=\"M19 3H5c-1.1 0-2 .9-2 2v14c0 1.1.9 2 2 2h14c1.1 0 2-.9 2-2V5c0-1.1-.9-2-2-2zM9 17H7v-7h2v7zm4 0h-2V7h2v10zm4 0h-2v-4h2v4z\"/>\n",
              "    </g>\n",
              "</svg>\n",
              "  </button>\n",
              "\n",
              "<style>\n",
              "  .colab-df-quickchart {\n",
              "      --bg-color: #E8F0FE;\n",
              "      --fill-color: #1967D2;\n",
              "      --hover-bg-color: #E2EBFA;\n",
              "      --hover-fill-color: #174EA6;\n",
              "      --disabled-fill-color: #AAA;\n",
              "      --disabled-bg-color: #DDD;\n",
              "  }\n",
              "\n",
              "  [theme=dark] .colab-df-quickchart {\n",
              "      --bg-color: #3B4455;\n",
              "      --fill-color: #D2E3FC;\n",
              "      --hover-bg-color: #434B5C;\n",
              "      --hover-fill-color: #FFFFFF;\n",
              "      --disabled-bg-color: #3B4455;\n",
              "      --disabled-fill-color: #666;\n",
              "  }\n",
              "\n",
              "  .colab-df-quickchart {\n",
              "    background-color: var(--bg-color);\n",
              "    border: none;\n",
              "    border-radius: 50%;\n",
              "    cursor: pointer;\n",
              "    display: none;\n",
              "    fill: var(--fill-color);\n",
              "    height: 32px;\n",
              "    padding: 0;\n",
              "    width: 32px;\n",
              "  }\n",
              "\n",
              "  .colab-df-quickchart:hover {\n",
              "    background-color: var(--hover-bg-color);\n",
              "    box-shadow: 0 1px 2px rgba(60, 64, 67, 0.3), 0 1px 3px 1px rgba(60, 64, 67, 0.15);\n",
              "    fill: var(--button-hover-fill-color);\n",
              "  }\n",
              "\n",
              "  .colab-df-quickchart-complete:disabled,\n",
              "  .colab-df-quickchart-complete:disabled:hover {\n",
              "    background-color: var(--disabled-bg-color);\n",
              "    fill: var(--disabled-fill-color);\n",
              "    box-shadow: none;\n",
              "  }\n",
              "\n",
              "  .colab-df-spinner {\n",
              "    border: 2px solid var(--fill-color);\n",
              "    border-color: transparent;\n",
              "    border-bottom-color: var(--fill-color);\n",
              "    animation:\n",
              "      spin 1s steps(1) infinite;\n",
              "  }\n",
              "\n",
              "  @keyframes spin {\n",
              "    0% {\n",
              "      border-color: transparent;\n",
              "      border-bottom-color: var(--fill-color);\n",
              "      border-left-color: var(--fill-color);\n",
              "    }\n",
              "    20% {\n",
              "      border-color: transparent;\n",
              "      border-left-color: var(--fill-color);\n",
              "      border-top-color: var(--fill-color);\n",
              "    }\n",
              "    30% {\n",
              "      border-color: transparent;\n",
              "      border-left-color: var(--fill-color);\n",
              "      border-top-color: var(--fill-color);\n",
              "      border-right-color: var(--fill-color);\n",
              "    }\n",
              "    40% {\n",
              "      border-color: transparent;\n",
              "      border-right-color: var(--fill-color);\n",
              "      border-top-color: var(--fill-color);\n",
              "    }\n",
              "    60% {\n",
              "      border-color: transparent;\n",
              "      border-right-color: var(--fill-color);\n",
              "    }\n",
              "    80% {\n",
              "      border-color: transparent;\n",
              "      border-right-color: var(--fill-color);\n",
              "      border-bottom-color: var(--fill-color);\n",
              "    }\n",
              "    90% {\n",
              "      border-color: transparent;\n",
              "      border-bottom-color: var(--fill-color);\n",
              "    }\n",
              "  }\n",
              "</style>\n",
              "\n",
              "  <script>\n",
              "    async function quickchart(key) {\n",
              "      const quickchartButtonEl =\n",
              "        document.querySelector('#' + key + ' button');\n",
              "      quickchartButtonEl.disabled = true;  // To prevent multiple clicks.\n",
              "      quickchartButtonEl.classList.add('colab-df-spinner');\n",
              "      try {\n",
              "        const charts = await google.colab.kernel.invokeFunction(\n",
              "            'suggestCharts', [key], {});\n",
              "      } catch (error) {\n",
              "        console.error('Error during call to suggestCharts:', error);\n",
              "      }\n",
              "      quickchartButtonEl.classList.remove('colab-df-spinner');\n",
              "      quickchartButtonEl.classList.add('colab-df-quickchart-complete');\n",
              "    }\n",
              "    (() => {\n",
              "      let quickchartButtonEl =\n",
              "        document.querySelector('#df-bd1a4c74-5524-42f9-8276-b148d008714a button');\n",
              "      quickchartButtonEl.style.display =\n",
              "        google.colab.kernel.accessAllowed ? 'block' : 'none';\n",
              "    })();\n",
              "  </script>\n",
              "</div>\n",
              "\n",
              "    </div>\n",
              "  </div>\n"
            ],
            "application/vnd.google.colaboratory.intrinsic+json": {
              "type": "dataframe",
              "variable_name": "df",
              "summary": "{\n  \"name\": \"df\",\n  \"rows\": 10000,\n  \"fields\": [\n    {\n      \"column\": \"Year\",\n      \"properties\": {\n        \"dtype\": \"number\",\n        \"std\": 10,\n        \"min\": 1990,\n        \"max\": 2024,\n        \"num_unique_values\": 35,\n        \"samples\": [\n          1994,\n          2017,\n          2005\n        ],\n        \"semantic_type\": \"\",\n        \"description\": \"\"\n      }\n    },\n    {\n      \"column\": \"Country\",\n      \"properties\": {\n        \"dtype\": \"category\",\n        \"num_unique_values\": 10,\n        \"samples\": [\n          \"Russia\",\n          \"China\",\n          \"Argentina\"\n        ],\n        \"semantic_type\": \"\",\n        \"description\": \"\"\n      }\n    },\n    {\n      \"column\": \"Region\",\n      \"properties\": {\n        \"dtype\": \"category\",\n        \"num_unique_values\": 34,\n        \"samples\": [\n          \"Victoria\",\n          \"Southeast\",\n          \"West\"\n        ],\n        \"semantic_type\": \"\",\n        \"description\": \"\"\n      }\n    },\n    {\n      \"column\": \"Crop_Type\",\n      \"properties\": {\n        \"dtype\": \"category\",\n        \"num_unique_values\": 10,\n        \"samples\": [\n          \"Soybeans\",\n          \"Wheat\",\n          \"Rice\"\n        ],\n        \"semantic_type\": \"\",\n        \"description\": \"\"\n      }\n    },\n    {\n      \"column\": \"Average_Temperature_C\",\n      \"properties\": {\n        \"dtype\": \"number\",\n        \"std\": 11.466954595155933,\n        \"min\": -4.99,\n        \"max\": 35.0,\n        \"num_unique_values\": 3677,\n        \"samples\": [\n          15.49,\n          22.98,\n          3.59\n        ],\n        \"semantic_type\": \"\",\n        \"description\": \"\"\n      }\n    },\n    {\n      \"column\": \"Total_Precipitation_mm\",\n      \"properties\": {\n        \"dtype\": \"number\",\n        \"std\": 805.0168148137855,\n        \"min\": 200.15,\n        \"max\": 2999.67,\n        \"num_unique_values\": 9784,\n        \"samples\": [\n          955.41,\n          2647.11,\n          369.83\n        ],\n        \"semantic_type\": \"\",\n        \"description\": \"\"\n      }\n    },\n    {\n      \"column\": \"CO2_Emissions_MT\",\n      \"properties\": {\n        \"dtype\": \"number\",\n        \"std\": 8.589422921998253,\n        \"min\": 0.5,\n        \"max\": 30.0,\n        \"num_unique_values\": 2852,\n        \"samples\": [\n          25.23,\n          22.92,\n          17.85\n        ],\n        \"semantic_type\": \"\",\n        \"description\": \"\"\n      }\n    },\n    {\n      \"column\": \"Crop_Yield_MT_per_HA\",\n      \"properties\": {\n        \"dtype\": \"number\",\n        \"std\": 0.9983415170135203,\n        \"min\": 0.45,\n        \"max\": 5.0,\n        \"num_unique_values\": 850,\n        \"samples\": [\n          3.51,\n          1.287,\n          4.0\n        ],\n        \"semantic_type\": \"\",\n        \"description\": \"\"\n      }\n    },\n    {\n      \"column\": \"Extreme_Weather_Events\",\n      \"properties\": {\n        \"dtype\": \"number\",\n        \"std\": 3,\n        \"min\": 0,\n        \"max\": 10,\n        \"num_unique_values\": 11,\n        \"samples\": [\n          1,\n          8,\n          0\n        ],\n        \"semantic_type\": \"\",\n        \"description\": \"\"\n      }\n    },\n    {\n      \"column\": \"Irrigation_Access_%\",\n      \"properties\": {\n        \"dtype\": \"number\",\n        \"std\": 25.988304726088543,\n        \"min\": 10.01,\n        \"max\": 99.99,\n        \"num_unique_values\": 6003,\n        \"samples\": [\n          96.91,\n          77.57,\n          24.7\n        ],\n        \"semantic_type\": \"\",\n        \"description\": \"\"\n      }\n    },\n    {\n      \"column\": \"Pesticide_Use_KG_per_HA\",\n      \"properties\": {\n        \"dtype\": \"number\",\n        \"std\": 14.490962263373268,\n        \"min\": 0.0,\n        \"max\": 49.99,\n        \"num_unique_values\": 4343,\n        \"samples\": [\n          37.87,\n          17.49,\n          47.39\n        ],\n        \"semantic_type\": \"\",\n        \"description\": \"\"\n      }\n    },\n    {\n      \"column\": \"Fertilizer_Use_KG_per_HA\",\n      \"properties\": {\n        \"dtype\": \"number\",\n        \"std\": 28.711026934916507,\n        \"min\": 0.01,\n        \"max\": 99.99,\n        \"num_unique_values\": 6314,\n        \"samples\": [\n          0.1,\n          83.88,\n          72.62\n        ],\n        \"semantic_type\": \"\",\n        \"description\": \"\"\n      }\n    },\n    {\n      \"column\": \"Soil_Health_Index\",\n      \"properties\": {\n        \"dtype\": \"number\",\n        \"std\": 20.195882333610484,\n        \"min\": 30.0,\n        \"max\": 100.0,\n        \"num_unique_values\": 5318,\n        \"samples\": [\n          98.62,\n          52.85,\n          38.14\n        ],\n        \"semantic_type\": \"\",\n        \"description\": \"\"\n      }\n    },\n    {\n      \"column\": \"Adaptation_Strategies\",\n      \"properties\": {\n        \"dtype\": \"category\",\n        \"num_unique_values\": 5,\n        \"samples\": [\n          \"Crop Rotation\",\n          \"Drought-resistant Crops\",\n          \"No Adaptation\"\n        ],\n        \"semantic_type\": \"\",\n        \"description\": \"\"\n      }\n    },\n    {\n      \"column\": \"Economic_Impact_Million_USD\",\n      \"properties\": {\n        \"dtype\": \"number\",\n        \"std\": 414.59143139199205,\n        \"min\": 47.84,\n        \"max\": 2346.47,\n        \"num_unique_values\": 9631,\n        \"samples\": [\n          407.76,\n          1439.17,\n          1518.62\n        ],\n        \"semantic_type\": \"\",\n        \"description\": \"\"\n      }\n    }\n  ]\n}"
            }
          },
          "metadata": {},
          "execution_count": 9
        }
      ]
    },
    {
      "cell_type": "code",
      "source": [
        "df.info()"
      ],
      "metadata": {
        "colab": {
          "base_uri": "https://localhost:8080/"
        },
        "id": "28IAO9jlIk80",
        "outputId": "37debe35-94e6-458c-bbbf-ee9ae7df9e33"
      },
      "execution_count": 10,
      "outputs": [
        {
          "output_type": "stream",
          "name": "stdout",
          "text": [
            "<class 'pandas.core.frame.DataFrame'>\n",
            "RangeIndex: 10000 entries, 0 to 9999\n",
            "Data columns (total 15 columns):\n",
            " #   Column                       Non-Null Count  Dtype  \n",
            "---  ------                       --------------  -----  \n",
            " 0   Year                         10000 non-null  int64  \n",
            " 1   Country                      10000 non-null  object \n",
            " 2   Region                       10000 non-null  object \n",
            " 3   Crop_Type                    10000 non-null  object \n",
            " 4   Average_Temperature_C        10000 non-null  float64\n",
            " 5   Total_Precipitation_mm       10000 non-null  float64\n",
            " 6   CO2_Emissions_MT             10000 non-null  float64\n",
            " 7   Crop_Yield_MT_per_HA         10000 non-null  float64\n",
            " 8   Extreme_Weather_Events       10000 non-null  int64  \n",
            " 9   Irrigation_Access_%          10000 non-null  float64\n",
            " 10  Pesticide_Use_KG_per_HA      10000 non-null  float64\n",
            " 11  Fertilizer_Use_KG_per_HA     10000 non-null  float64\n",
            " 12  Soil_Health_Index            10000 non-null  float64\n",
            " 13  Adaptation_Strategies        10000 non-null  object \n",
            " 14  Economic_Impact_Million_USD  10000 non-null  float64\n",
            "dtypes: float64(9), int64(2), object(4)\n",
            "memory usage: 1.1+ MB\n"
          ]
        }
      ]
    },
    {
      "cell_type": "code",
      "source": [
        "df.describe().T"
      ],
      "metadata": {
        "colab": {
          "base_uri": "https://localhost:8080/",
          "height": 394
        },
        "id": "3keToKjKJMnQ",
        "outputId": "8c598ed2-2752-4118-a6d4-1cc50c5e13ad"
      },
      "execution_count": 11,
      "outputs": [
        {
          "output_type": "execute_result",
          "data": {
            "text/plain": [
              "                               count         mean         std      min  \\\n",
              "Year                         10000.0  2007.088700   10.084245  1990.00   \n",
              "Average_Temperature_C        10000.0    15.241299   11.466955    -4.99   \n",
              "Total_Precipitation_mm       10000.0  1611.663834  805.016815   200.15   \n",
              "CO2_Emissions_MT             10000.0    15.246608    8.589423     0.50   \n",
              "Crop_Yield_MT_per_HA         10000.0     2.240017    0.998342     0.45   \n",
              "Extreme_Weather_Events       10000.0     4.980900    3.165808     0.00   \n",
              "Irrigation_Access_%          10000.0    55.248332   25.988305    10.01   \n",
              "Pesticide_Use_KG_per_HA      10000.0    24.955735   14.490962     0.00   \n",
              "Fertilizer_Use_KG_per_HA     10000.0    49.973708   28.711027     0.01   \n",
              "Soil_Health_Index            10000.0    64.901278   20.195882    30.00   \n",
              "Economic_Impact_Million_USD  10000.0   674.269658  414.591431    47.84   \n",
              "\n",
              "                                   25%       50%        75%      max  \n",
              "Year                         1999.0000  2007.000  2016.0000  2024.00  \n",
              "Average_Temperature_C           5.4300    15.175    25.3400    35.00  \n",
              "Total_Precipitation_mm        925.6975  1611.160  2306.9975  2999.67  \n",
              "CO2_Emissions_MT                7.7600    15.200    22.8200    30.00  \n",
              "Crop_Yield_MT_per_HA            1.4490     2.170     2.9300     5.00  \n",
              "Extreme_Weather_Events          2.0000     5.000     8.0000    10.00  \n",
              "Irrigation_Access_%            32.6775    55.175    77.5825    99.99  \n",
              "Pesticide_Use_KG_per_HA        12.5275    24.930    37.4700    49.99  \n",
              "Fertilizer_Use_KG_per_HA       25.3900    49.635    74.8250    99.99  \n",
              "Soil_Health_Index              47.2350    64.650    82.4725   100.00  \n",
              "Economic_Impact_Million_USD   350.5450   583.920   917.5050  2346.47  "
            ],
            "text/html": [
              "\n",
              "  <div id=\"df-4cd1ecfa-63d4-40b7-9800-3d4ad172b8b1\" class=\"colab-df-container\">\n",
              "    <div>\n",
              "<style scoped>\n",
              "    .dataframe tbody tr th:only-of-type {\n",
              "        vertical-align: middle;\n",
              "    }\n",
              "\n",
              "    .dataframe tbody tr th {\n",
              "        vertical-align: top;\n",
              "    }\n",
              "\n",
              "    .dataframe thead th {\n",
              "        text-align: right;\n",
              "    }\n",
              "</style>\n",
              "<table border=\"1\" class=\"dataframe\">\n",
              "  <thead>\n",
              "    <tr style=\"text-align: right;\">\n",
              "      <th></th>\n",
              "      <th>count</th>\n",
              "      <th>mean</th>\n",
              "      <th>std</th>\n",
              "      <th>min</th>\n",
              "      <th>25%</th>\n",
              "      <th>50%</th>\n",
              "      <th>75%</th>\n",
              "      <th>max</th>\n",
              "    </tr>\n",
              "  </thead>\n",
              "  <tbody>\n",
              "    <tr>\n",
              "      <th>Year</th>\n",
              "      <td>10000.0</td>\n",
              "      <td>2007.088700</td>\n",
              "      <td>10.084245</td>\n",
              "      <td>1990.00</td>\n",
              "      <td>1999.0000</td>\n",
              "      <td>2007.000</td>\n",
              "      <td>2016.0000</td>\n",
              "      <td>2024.00</td>\n",
              "    </tr>\n",
              "    <tr>\n",
              "      <th>Average_Temperature_C</th>\n",
              "      <td>10000.0</td>\n",
              "      <td>15.241299</td>\n",
              "      <td>11.466955</td>\n",
              "      <td>-4.99</td>\n",
              "      <td>5.4300</td>\n",
              "      <td>15.175</td>\n",
              "      <td>25.3400</td>\n",
              "      <td>35.00</td>\n",
              "    </tr>\n",
              "    <tr>\n",
              "      <th>Total_Precipitation_mm</th>\n",
              "      <td>10000.0</td>\n",
              "      <td>1611.663834</td>\n",
              "      <td>805.016815</td>\n",
              "      <td>200.15</td>\n",
              "      <td>925.6975</td>\n",
              "      <td>1611.160</td>\n",
              "      <td>2306.9975</td>\n",
              "      <td>2999.67</td>\n",
              "    </tr>\n",
              "    <tr>\n",
              "      <th>CO2_Emissions_MT</th>\n",
              "      <td>10000.0</td>\n",
              "      <td>15.246608</td>\n",
              "      <td>8.589423</td>\n",
              "      <td>0.50</td>\n",
              "      <td>7.7600</td>\n",
              "      <td>15.200</td>\n",
              "      <td>22.8200</td>\n",
              "      <td>30.00</td>\n",
              "    </tr>\n",
              "    <tr>\n",
              "      <th>Crop_Yield_MT_per_HA</th>\n",
              "      <td>10000.0</td>\n",
              "      <td>2.240017</td>\n",
              "      <td>0.998342</td>\n",
              "      <td>0.45</td>\n",
              "      <td>1.4490</td>\n",
              "      <td>2.170</td>\n",
              "      <td>2.9300</td>\n",
              "      <td>5.00</td>\n",
              "    </tr>\n",
              "    <tr>\n",
              "      <th>Extreme_Weather_Events</th>\n",
              "      <td>10000.0</td>\n",
              "      <td>4.980900</td>\n",
              "      <td>3.165808</td>\n",
              "      <td>0.00</td>\n",
              "      <td>2.0000</td>\n",
              "      <td>5.000</td>\n",
              "      <td>8.0000</td>\n",
              "      <td>10.00</td>\n",
              "    </tr>\n",
              "    <tr>\n",
              "      <th>Irrigation_Access_%</th>\n",
              "      <td>10000.0</td>\n",
              "      <td>55.248332</td>\n",
              "      <td>25.988305</td>\n",
              "      <td>10.01</td>\n",
              "      <td>32.6775</td>\n",
              "      <td>55.175</td>\n",
              "      <td>77.5825</td>\n",
              "      <td>99.99</td>\n",
              "    </tr>\n",
              "    <tr>\n",
              "      <th>Pesticide_Use_KG_per_HA</th>\n",
              "      <td>10000.0</td>\n",
              "      <td>24.955735</td>\n",
              "      <td>14.490962</td>\n",
              "      <td>0.00</td>\n",
              "      <td>12.5275</td>\n",
              "      <td>24.930</td>\n",
              "      <td>37.4700</td>\n",
              "      <td>49.99</td>\n",
              "    </tr>\n",
              "    <tr>\n",
              "      <th>Fertilizer_Use_KG_per_HA</th>\n",
              "      <td>10000.0</td>\n",
              "      <td>49.973708</td>\n",
              "      <td>28.711027</td>\n",
              "      <td>0.01</td>\n",
              "      <td>25.3900</td>\n",
              "      <td>49.635</td>\n",
              "      <td>74.8250</td>\n",
              "      <td>99.99</td>\n",
              "    </tr>\n",
              "    <tr>\n",
              "      <th>Soil_Health_Index</th>\n",
              "      <td>10000.0</td>\n",
              "      <td>64.901278</td>\n",
              "      <td>20.195882</td>\n",
              "      <td>30.00</td>\n",
              "      <td>47.2350</td>\n",
              "      <td>64.650</td>\n",
              "      <td>82.4725</td>\n",
              "      <td>100.00</td>\n",
              "    </tr>\n",
              "    <tr>\n",
              "      <th>Economic_Impact_Million_USD</th>\n",
              "      <td>10000.0</td>\n",
              "      <td>674.269658</td>\n",
              "      <td>414.591431</td>\n",
              "      <td>47.84</td>\n",
              "      <td>350.5450</td>\n",
              "      <td>583.920</td>\n",
              "      <td>917.5050</td>\n",
              "      <td>2346.47</td>\n",
              "    </tr>\n",
              "  </tbody>\n",
              "</table>\n",
              "</div>\n",
              "    <div class=\"colab-df-buttons\">\n",
              "\n",
              "  <div class=\"colab-df-container\">\n",
              "    <button class=\"colab-df-convert\" onclick=\"convertToInteractive('df-4cd1ecfa-63d4-40b7-9800-3d4ad172b8b1')\"\n",
              "            title=\"Convert this dataframe to an interactive table.\"\n",
              "            style=\"display:none;\">\n",
              "\n",
              "  <svg xmlns=\"http://www.w3.org/2000/svg\" height=\"24px\" viewBox=\"0 -960 960 960\">\n",
              "    <path d=\"M120-120v-720h720v720H120Zm60-500h600v-160H180v160Zm220 220h160v-160H400v160Zm0 220h160v-160H400v160ZM180-400h160v-160H180v160Zm440 0h160v-160H620v160ZM180-180h160v-160H180v160Zm440 0h160v-160H620v160Z\"/>\n",
              "  </svg>\n",
              "    </button>\n",
              "\n",
              "  <style>\n",
              "    .colab-df-container {\n",
              "      display:flex;\n",
              "      gap: 12px;\n",
              "    }\n",
              "\n",
              "    .colab-df-convert {\n",
              "      background-color: #E8F0FE;\n",
              "      border: none;\n",
              "      border-radius: 50%;\n",
              "      cursor: pointer;\n",
              "      display: none;\n",
              "      fill: #1967D2;\n",
              "      height: 32px;\n",
              "      padding: 0 0 0 0;\n",
              "      width: 32px;\n",
              "    }\n",
              "\n",
              "    .colab-df-convert:hover {\n",
              "      background-color: #E2EBFA;\n",
              "      box-shadow: 0px 1px 2px rgba(60, 64, 67, 0.3), 0px 1px 3px 1px rgba(60, 64, 67, 0.15);\n",
              "      fill: #174EA6;\n",
              "    }\n",
              "\n",
              "    .colab-df-buttons div {\n",
              "      margin-bottom: 4px;\n",
              "    }\n",
              "\n",
              "    [theme=dark] .colab-df-convert {\n",
              "      background-color: #3B4455;\n",
              "      fill: #D2E3FC;\n",
              "    }\n",
              "\n",
              "    [theme=dark] .colab-df-convert:hover {\n",
              "      background-color: #434B5C;\n",
              "      box-shadow: 0px 1px 3px 1px rgba(0, 0, 0, 0.15);\n",
              "      filter: drop-shadow(0px 1px 2px rgba(0, 0, 0, 0.3));\n",
              "      fill: #FFFFFF;\n",
              "    }\n",
              "  </style>\n",
              "\n",
              "    <script>\n",
              "      const buttonEl =\n",
              "        document.querySelector('#df-4cd1ecfa-63d4-40b7-9800-3d4ad172b8b1 button.colab-df-convert');\n",
              "      buttonEl.style.display =\n",
              "        google.colab.kernel.accessAllowed ? 'block' : 'none';\n",
              "\n",
              "      async function convertToInteractive(key) {\n",
              "        const element = document.querySelector('#df-4cd1ecfa-63d4-40b7-9800-3d4ad172b8b1');\n",
              "        const dataTable =\n",
              "          await google.colab.kernel.invokeFunction('convertToInteractive',\n",
              "                                                    [key], {});\n",
              "        if (!dataTable) return;\n",
              "\n",
              "        const docLinkHtml = 'Like what you see? Visit the ' +\n",
              "          '<a target=\"_blank\" href=https://colab.research.google.com/notebooks/data_table.ipynb>data table notebook</a>'\n",
              "          + ' to learn more about interactive tables.';\n",
              "        element.innerHTML = '';\n",
              "        dataTable['output_type'] = 'display_data';\n",
              "        await google.colab.output.renderOutput(dataTable, element);\n",
              "        const docLink = document.createElement('div');\n",
              "        docLink.innerHTML = docLinkHtml;\n",
              "        element.appendChild(docLink);\n",
              "      }\n",
              "    </script>\n",
              "  </div>\n",
              "\n",
              "\n",
              "<div id=\"df-290f5c85-09fa-4689-8777-73697e8f34e2\">\n",
              "  <button class=\"colab-df-quickchart\" onclick=\"quickchart('df-290f5c85-09fa-4689-8777-73697e8f34e2')\"\n",
              "            title=\"Suggest charts\"\n",
              "            style=\"display:none;\">\n",
              "\n",
              "<svg xmlns=\"http://www.w3.org/2000/svg\" height=\"24px\"viewBox=\"0 0 24 24\"\n",
              "     width=\"24px\">\n",
              "    <g>\n",
              "        <path d=\"M19 3H5c-1.1 0-2 .9-2 2v14c0 1.1.9 2 2 2h14c1.1 0 2-.9 2-2V5c0-1.1-.9-2-2-2zM9 17H7v-7h2v7zm4 0h-2V7h2v10zm4 0h-2v-4h2v4z\"/>\n",
              "    </g>\n",
              "</svg>\n",
              "  </button>\n",
              "\n",
              "<style>\n",
              "  .colab-df-quickchart {\n",
              "      --bg-color: #E8F0FE;\n",
              "      --fill-color: #1967D2;\n",
              "      --hover-bg-color: #E2EBFA;\n",
              "      --hover-fill-color: #174EA6;\n",
              "      --disabled-fill-color: #AAA;\n",
              "      --disabled-bg-color: #DDD;\n",
              "  }\n",
              "\n",
              "  [theme=dark] .colab-df-quickchart {\n",
              "      --bg-color: #3B4455;\n",
              "      --fill-color: #D2E3FC;\n",
              "      --hover-bg-color: #434B5C;\n",
              "      --hover-fill-color: #FFFFFF;\n",
              "      --disabled-bg-color: #3B4455;\n",
              "      --disabled-fill-color: #666;\n",
              "  }\n",
              "\n",
              "  .colab-df-quickchart {\n",
              "    background-color: var(--bg-color);\n",
              "    border: none;\n",
              "    border-radius: 50%;\n",
              "    cursor: pointer;\n",
              "    display: none;\n",
              "    fill: var(--fill-color);\n",
              "    height: 32px;\n",
              "    padding: 0;\n",
              "    width: 32px;\n",
              "  }\n",
              "\n",
              "  .colab-df-quickchart:hover {\n",
              "    background-color: var(--hover-bg-color);\n",
              "    box-shadow: 0 1px 2px rgba(60, 64, 67, 0.3), 0 1px 3px 1px rgba(60, 64, 67, 0.15);\n",
              "    fill: var(--button-hover-fill-color);\n",
              "  }\n",
              "\n",
              "  .colab-df-quickchart-complete:disabled,\n",
              "  .colab-df-quickchart-complete:disabled:hover {\n",
              "    background-color: var(--disabled-bg-color);\n",
              "    fill: var(--disabled-fill-color);\n",
              "    box-shadow: none;\n",
              "  }\n",
              "\n",
              "  .colab-df-spinner {\n",
              "    border: 2px solid var(--fill-color);\n",
              "    border-color: transparent;\n",
              "    border-bottom-color: var(--fill-color);\n",
              "    animation:\n",
              "      spin 1s steps(1) infinite;\n",
              "  }\n",
              "\n",
              "  @keyframes spin {\n",
              "    0% {\n",
              "      border-color: transparent;\n",
              "      border-bottom-color: var(--fill-color);\n",
              "      border-left-color: var(--fill-color);\n",
              "    }\n",
              "    20% {\n",
              "      border-color: transparent;\n",
              "      border-left-color: var(--fill-color);\n",
              "      border-top-color: var(--fill-color);\n",
              "    }\n",
              "    30% {\n",
              "      border-color: transparent;\n",
              "      border-left-color: var(--fill-color);\n",
              "      border-top-color: var(--fill-color);\n",
              "      border-right-color: var(--fill-color);\n",
              "    }\n",
              "    40% {\n",
              "      border-color: transparent;\n",
              "      border-right-color: var(--fill-color);\n",
              "      border-top-color: var(--fill-color);\n",
              "    }\n",
              "    60% {\n",
              "      border-color: transparent;\n",
              "      border-right-color: var(--fill-color);\n",
              "    }\n",
              "    80% {\n",
              "      border-color: transparent;\n",
              "      border-right-color: var(--fill-color);\n",
              "      border-bottom-color: var(--fill-color);\n",
              "    }\n",
              "    90% {\n",
              "      border-color: transparent;\n",
              "      border-bottom-color: var(--fill-color);\n",
              "    }\n",
              "  }\n",
              "</style>\n",
              "\n",
              "  <script>\n",
              "    async function quickchart(key) {\n",
              "      const quickchartButtonEl =\n",
              "        document.querySelector('#' + key + ' button');\n",
              "      quickchartButtonEl.disabled = true;  // To prevent multiple clicks.\n",
              "      quickchartButtonEl.classList.add('colab-df-spinner');\n",
              "      try {\n",
              "        const charts = await google.colab.kernel.invokeFunction(\n",
              "            'suggestCharts', [key], {});\n",
              "      } catch (error) {\n",
              "        console.error('Error during call to suggestCharts:', error);\n",
              "      }\n",
              "      quickchartButtonEl.classList.remove('colab-df-spinner');\n",
              "      quickchartButtonEl.classList.add('colab-df-quickchart-complete');\n",
              "    }\n",
              "    (() => {\n",
              "      let quickchartButtonEl =\n",
              "        document.querySelector('#df-290f5c85-09fa-4689-8777-73697e8f34e2 button');\n",
              "      quickchartButtonEl.style.display =\n",
              "        google.colab.kernel.accessAllowed ? 'block' : 'none';\n",
              "    })();\n",
              "  </script>\n",
              "</div>\n",
              "\n",
              "    </div>\n",
              "  </div>\n"
            ],
            "application/vnd.google.colaboratory.intrinsic+json": {
              "type": "dataframe",
              "summary": "{\n  \"name\": \"df\",\n  \"rows\": 11,\n  \"fields\": [\n    {\n      \"column\": \"count\",\n      \"properties\": {\n        \"dtype\": \"number\",\n        \"std\": 0.0,\n        \"min\": 10000.0,\n        \"max\": 10000.0,\n        \"num_unique_values\": 1,\n        \"samples\": [\n          10000.0\n        ],\n        \"semantic_type\": \"\",\n        \"description\": \"\"\n      }\n    },\n    {\n      \"column\": \"mean\",\n      \"properties\": {\n        \"dtype\": \"number\",\n        \"std\": 723.138800838369,\n        \"min\": 2.2400169,\n        \"max\": 2007.0887,\n        \"num_unique_values\": 11,\n        \"samples\": [\n          4.9809\n        ],\n        \"semantic_type\": \"\",\n        \"description\": \"\"\n      }\n    },\n    {\n      \"column\": \"std\",\n      \"properties\": {\n        \"dtype\": \"number\",\n        \"std\": 256.57991488639,\n        \"min\": 0.9983415170135203,\n        \"max\": 805.0168148137855,\n        \"num_unique_values\": 11,\n        \"samples\": [\n          3.1658075468579403\n        ],\n        \"semantic_type\": \"\",\n        \"description\": \"\"\n      }\n    },\n    {\n      \"column\": \"min\",\n      \"properties\": {\n        \"dtype\": \"number\",\n        \"std\": 594.4231511535135,\n        \"min\": -4.99,\n        \"max\": 1990.0,\n        \"num_unique_values\": 10,\n        \"samples\": [\n          30.0\n        ],\n        \"semantic_type\": \"\",\n        \"description\": \"\"\n      }\n    },\n    {\n      \"column\": \"25%\",\n      \"properties\": {\n        \"dtype\": \"number\",\n        \"std\": 626.3444641451844,\n        \"min\": 1.449,\n        \"max\": 1999.0,\n        \"num_unique_values\": 11,\n        \"samples\": [\n          2.0\n        ],\n        \"semantic_type\": \"\",\n        \"description\": \"\"\n      }\n    },\n    {\n      \"column\": \"50%\",\n      \"properties\": {\n        \"dtype\": \"number\",\n        \"std\": 720.3007010352122,\n        \"min\": 2.17,\n        \"max\": 2007.0,\n        \"num_unique_values\": 11,\n        \"samples\": [\n          5.0\n        ],\n        \"semantic_type\": \"\",\n        \"description\": \"\"\n      }\n    },\n    {\n      \"column\": \"75%\",\n      \"properties\": {\n        \"dtype\": \"number\",\n        \"std\": 861.7978220973978,\n        \"min\": 2.93,\n        \"max\": 2306.9975,\n        \"num_unique_values\": 11,\n        \"samples\": [\n          8.0\n        ],\n        \"semantic_type\": \"\",\n        \"description\": \"\"\n      }\n    },\n    {\n      \"column\": \"max\",\n      \"properties\": {\n        \"dtype\": \"number\",\n        \"std\": 1144.7356672215167,\n        \"min\": 5.0,\n        \"max\": 2999.67,\n        \"num_unique_values\": 10,\n        \"samples\": [\n          100.0\n        ],\n        \"semantic_type\": \"\",\n        \"description\": \"\"\n      }\n    }\n  ]\n}"
            }
          },
          "metadata": {},
          "execution_count": 11
        }
      ]
    },
    {
      "cell_type": "code",
      "source": [
        "df.describe(include = [object])"
      ],
      "metadata": {
        "colab": {
          "base_uri": "https://localhost:8080/",
          "height": 175
        },
        "id": "ycisH4Cc7JY7",
        "outputId": "571437f1-4771-4712-8f2b-ea693298e671"
      },
      "execution_count": 12,
      "outputs": [
        {
          "output_type": "execute_result",
          "data": {
            "text/plain": [
              "       Country Region Crop_Type Adaptation_Strategies\n",
              "count    10000  10000     10000                 10000\n",
              "unique      10     34        10                     5\n",
              "top        USA  South     Wheat      Water Management\n",
              "freq      1032    754      1047                  2049"
            ],
            "text/html": [
              "\n",
              "  <div id=\"df-66169c5a-782b-423f-a6d1-8105cc562536\" class=\"colab-df-container\">\n",
              "    <div>\n",
              "<style scoped>\n",
              "    .dataframe tbody tr th:only-of-type {\n",
              "        vertical-align: middle;\n",
              "    }\n",
              "\n",
              "    .dataframe tbody tr th {\n",
              "        vertical-align: top;\n",
              "    }\n",
              "\n",
              "    .dataframe thead th {\n",
              "        text-align: right;\n",
              "    }\n",
              "</style>\n",
              "<table border=\"1\" class=\"dataframe\">\n",
              "  <thead>\n",
              "    <tr style=\"text-align: right;\">\n",
              "      <th></th>\n",
              "      <th>Country</th>\n",
              "      <th>Region</th>\n",
              "      <th>Crop_Type</th>\n",
              "      <th>Adaptation_Strategies</th>\n",
              "    </tr>\n",
              "  </thead>\n",
              "  <tbody>\n",
              "    <tr>\n",
              "      <th>count</th>\n",
              "      <td>10000</td>\n",
              "      <td>10000</td>\n",
              "      <td>10000</td>\n",
              "      <td>10000</td>\n",
              "    </tr>\n",
              "    <tr>\n",
              "      <th>unique</th>\n",
              "      <td>10</td>\n",
              "      <td>34</td>\n",
              "      <td>10</td>\n",
              "      <td>5</td>\n",
              "    </tr>\n",
              "    <tr>\n",
              "      <th>top</th>\n",
              "      <td>USA</td>\n",
              "      <td>South</td>\n",
              "      <td>Wheat</td>\n",
              "      <td>Water Management</td>\n",
              "    </tr>\n",
              "    <tr>\n",
              "      <th>freq</th>\n",
              "      <td>1032</td>\n",
              "      <td>754</td>\n",
              "      <td>1047</td>\n",
              "      <td>2049</td>\n",
              "    </tr>\n",
              "  </tbody>\n",
              "</table>\n",
              "</div>\n",
              "    <div class=\"colab-df-buttons\">\n",
              "\n",
              "  <div class=\"colab-df-container\">\n",
              "    <button class=\"colab-df-convert\" onclick=\"convertToInteractive('df-66169c5a-782b-423f-a6d1-8105cc562536')\"\n",
              "            title=\"Convert this dataframe to an interactive table.\"\n",
              "            style=\"display:none;\">\n",
              "\n",
              "  <svg xmlns=\"http://www.w3.org/2000/svg\" height=\"24px\" viewBox=\"0 -960 960 960\">\n",
              "    <path d=\"M120-120v-720h720v720H120Zm60-500h600v-160H180v160Zm220 220h160v-160H400v160Zm0 220h160v-160H400v160ZM180-400h160v-160H180v160Zm440 0h160v-160H620v160ZM180-180h160v-160H180v160Zm440 0h160v-160H620v160Z\"/>\n",
              "  </svg>\n",
              "    </button>\n",
              "\n",
              "  <style>\n",
              "    .colab-df-container {\n",
              "      display:flex;\n",
              "      gap: 12px;\n",
              "    }\n",
              "\n",
              "    .colab-df-convert {\n",
              "      background-color: #E8F0FE;\n",
              "      border: none;\n",
              "      border-radius: 50%;\n",
              "      cursor: pointer;\n",
              "      display: none;\n",
              "      fill: #1967D2;\n",
              "      height: 32px;\n",
              "      padding: 0 0 0 0;\n",
              "      width: 32px;\n",
              "    }\n",
              "\n",
              "    .colab-df-convert:hover {\n",
              "      background-color: #E2EBFA;\n",
              "      box-shadow: 0px 1px 2px rgba(60, 64, 67, 0.3), 0px 1px 3px 1px rgba(60, 64, 67, 0.15);\n",
              "      fill: #174EA6;\n",
              "    }\n",
              "\n",
              "    .colab-df-buttons div {\n",
              "      margin-bottom: 4px;\n",
              "    }\n",
              "\n",
              "    [theme=dark] .colab-df-convert {\n",
              "      background-color: #3B4455;\n",
              "      fill: #D2E3FC;\n",
              "    }\n",
              "\n",
              "    [theme=dark] .colab-df-convert:hover {\n",
              "      background-color: #434B5C;\n",
              "      box-shadow: 0px 1px 3px 1px rgba(0, 0, 0, 0.15);\n",
              "      filter: drop-shadow(0px 1px 2px rgba(0, 0, 0, 0.3));\n",
              "      fill: #FFFFFF;\n",
              "    }\n",
              "  </style>\n",
              "\n",
              "    <script>\n",
              "      const buttonEl =\n",
              "        document.querySelector('#df-66169c5a-782b-423f-a6d1-8105cc562536 button.colab-df-convert');\n",
              "      buttonEl.style.display =\n",
              "        google.colab.kernel.accessAllowed ? 'block' : 'none';\n",
              "\n",
              "      async function convertToInteractive(key) {\n",
              "        const element = document.querySelector('#df-66169c5a-782b-423f-a6d1-8105cc562536');\n",
              "        const dataTable =\n",
              "          await google.colab.kernel.invokeFunction('convertToInteractive',\n",
              "                                                    [key], {});\n",
              "        if (!dataTable) return;\n",
              "\n",
              "        const docLinkHtml = 'Like what you see? Visit the ' +\n",
              "          '<a target=\"_blank\" href=https://colab.research.google.com/notebooks/data_table.ipynb>data table notebook</a>'\n",
              "          + ' to learn more about interactive tables.';\n",
              "        element.innerHTML = '';\n",
              "        dataTable['output_type'] = 'display_data';\n",
              "        await google.colab.output.renderOutput(dataTable, element);\n",
              "        const docLink = document.createElement('div');\n",
              "        docLink.innerHTML = docLinkHtml;\n",
              "        element.appendChild(docLink);\n",
              "      }\n",
              "    </script>\n",
              "  </div>\n",
              "\n",
              "\n",
              "<div id=\"df-eeab0e3f-00d1-4feb-9943-4fb7469e49d3\">\n",
              "  <button class=\"colab-df-quickchart\" onclick=\"quickchart('df-eeab0e3f-00d1-4feb-9943-4fb7469e49d3')\"\n",
              "            title=\"Suggest charts\"\n",
              "            style=\"display:none;\">\n",
              "\n",
              "<svg xmlns=\"http://www.w3.org/2000/svg\" height=\"24px\"viewBox=\"0 0 24 24\"\n",
              "     width=\"24px\">\n",
              "    <g>\n",
              "        <path d=\"M19 3H5c-1.1 0-2 .9-2 2v14c0 1.1.9 2 2 2h14c1.1 0 2-.9 2-2V5c0-1.1-.9-2-2-2zM9 17H7v-7h2v7zm4 0h-2V7h2v10zm4 0h-2v-4h2v4z\"/>\n",
              "    </g>\n",
              "</svg>\n",
              "  </button>\n",
              "\n",
              "<style>\n",
              "  .colab-df-quickchart {\n",
              "      --bg-color: #E8F0FE;\n",
              "      --fill-color: #1967D2;\n",
              "      --hover-bg-color: #E2EBFA;\n",
              "      --hover-fill-color: #174EA6;\n",
              "      --disabled-fill-color: #AAA;\n",
              "      --disabled-bg-color: #DDD;\n",
              "  }\n",
              "\n",
              "  [theme=dark] .colab-df-quickchart {\n",
              "      --bg-color: #3B4455;\n",
              "      --fill-color: #D2E3FC;\n",
              "      --hover-bg-color: #434B5C;\n",
              "      --hover-fill-color: #FFFFFF;\n",
              "      --disabled-bg-color: #3B4455;\n",
              "      --disabled-fill-color: #666;\n",
              "  }\n",
              "\n",
              "  .colab-df-quickchart {\n",
              "    background-color: var(--bg-color);\n",
              "    border: none;\n",
              "    border-radius: 50%;\n",
              "    cursor: pointer;\n",
              "    display: none;\n",
              "    fill: var(--fill-color);\n",
              "    height: 32px;\n",
              "    padding: 0;\n",
              "    width: 32px;\n",
              "  }\n",
              "\n",
              "  .colab-df-quickchart:hover {\n",
              "    background-color: var(--hover-bg-color);\n",
              "    box-shadow: 0 1px 2px rgba(60, 64, 67, 0.3), 0 1px 3px 1px rgba(60, 64, 67, 0.15);\n",
              "    fill: var(--button-hover-fill-color);\n",
              "  }\n",
              "\n",
              "  .colab-df-quickchart-complete:disabled,\n",
              "  .colab-df-quickchart-complete:disabled:hover {\n",
              "    background-color: var(--disabled-bg-color);\n",
              "    fill: var(--disabled-fill-color);\n",
              "    box-shadow: none;\n",
              "  }\n",
              "\n",
              "  .colab-df-spinner {\n",
              "    border: 2px solid var(--fill-color);\n",
              "    border-color: transparent;\n",
              "    border-bottom-color: var(--fill-color);\n",
              "    animation:\n",
              "      spin 1s steps(1) infinite;\n",
              "  }\n",
              "\n",
              "  @keyframes spin {\n",
              "    0% {\n",
              "      border-color: transparent;\n",
              "      border-bottom-color: var(--fill-color);\n",
              "      border-left-color: var(--fill-color);\n",
              "    }\n",
              "    20% {\n",
              "      border-color: transparent;\n",
              "      border-left-color: var(--fill-color);\n",
              "      border-top-color: var(--fill-color);\n",
              "    }\n",
              "    30% {\n",
              "      border-color: transparent;\n",
              "      border-left-color: var(--fill-color);\n",
              "      border-top-color: var(--fill-color);\n",
              "      border-right-color: var(--fill-color);\n",
              "    }\n",
              "    40% {\n",
              "      border-color: transparent;\n",
              "      border-right-color: var(--fill-color);\n",
              "      border-top-color: var(--fill-color);\n",
              "    }\n",
              "    60% {\n",
              "      border-color: transparent;\n",
              "      border-right-color: var(--fill-color);\n",
              "    }\n",
              "    80% {\n",
              "      border-color: transparent;\n",
              "      border-right-color: var(--fill-color);\n",
              "      border-bottom-color: var(--fill-color);\n",
              "    }\n",
              "    90% {\n",
              "      border-color: transparent;\n",
              "      border-bottom-color: var(--fill-color);\n",
              "    }\n",
              "  }\n",
              "</style>\n",
              "\n",
              "  <script>\n",
              "    async function quickchart(key) {\n",
              "      const quickchartButtonEl =\n",
              "        document.querySelector('#' + key + ' button');\n",
              "      quickchartButtonEl.disabled = true;  // To prevent multiple clicks.\n",
              "      quickchartButtonEl.classList.add('colab-df-spinner');\n",
              "      try {\n",
              "        const charts = await google.colab.kernel.invokeFunction(\n",
              "            'suggestCharts', [key], {});\n",
              "      } catch (error) {\n",
              "        console.error('Error during call to suggestCharts:', error);\n",
              "      }\n",
              "      quickchartButtonEl.classList.remove('colab-df-spinner');\n",
              "      quickchartButtonEl.classList.add('colab-df-quickchart-complete');\n",
              "    }\n",
              "    (() => {\n",
              "      let quickchartButtonEl =\n",
              "        document.querySelector('#df-eeab0e3f-00d1-4feb-9943-4fb7469e49d3 button');\n",
              "      quickchartButtonEl.style.display =\n",
              "        google.colab.kernel.accessAllowed ? 'block' : 'none';\n",
              "    })();\n",
              "  </script>\n",
              "</div>\n",
              "\n",
              "    </div>\n",
              "  </div>\n"
            ],
            "application/vnd.google.colaboratory.intrinsic+json": {
              "type": "dataframe",
              "summary": "{\n  \"name\": \"df\",\n  \"rows\": 4,\n  \"fields\": [\n    {\n      \"column\": \"Country\",\n      \"properties\": {\n        \"dtype\": \"string\",\n        \"num_unique_values\": 4,\n        \"samples\": [\n          10,\n          \"1032\",\n          \"10000\"\n        ],\n        \"semantic_type\": \"\",\n        \"description\": \"\"\n      }\n    },\n    {\n      \"column\": \"Region\",\n      \"properties\": {\n        \"dtype\": \"string\",\n        \"num_unique_values\": 4,\n        \"samples\": [\n          34,\n          \"754\",\n          \"10000\"\n        ],\n        \"semantic_type\": \"\",\n        \"description\": \"\"\n      }\n    },\n    {\n      \"column\": \"Crop_Type\",\n      \"properties\": {\n        \"dtype\": \"string\",\n        \"num_unique_values\": 4,\n        \"samples\": [\n          10,\n          \"1047\",\n          \"10000\"\n        ],\n        \"semantic_type\": \"\",\n        \"description\": \"\"\n      }\n    },\n    {\n      \"column\": \"Adaptation_Strategies\",\n      \"properties\": {\n        \"dtype\": \"string\",\n        \"num_unique_values\": 4,\n        \"samples\": [\n          5,\n          \"2049\",\n          \"10000\"\n        ],\n        \"semantic_type\": \"\",\n        \"description\": \"\"\n      }\n    }\n  ]\n}"
            }
          },
          "metadata": {},
          "execution_count": 12
        }
      ]
    },
    {
      "cell_type": "markdown",
      "source": [
        "## Histograma"
      ],
      "metadata": {
        "id": "VDqVolG29XPy"
      }
    },
    {
      "cell_type": "code",
      "source": [
        "sns.histplot(df[\"Economic_Impact_Million_USD\"], kde = True)"
      ],
      "metadata": {
        "colab": {
          "base_uri": "https://localhost:8080/",
          "height": 468
        },
        "id": "k3-hBbTP7s-n",
        "outputId": "fb1451e5-1a94-424f-cc85-f72ccf92aa01"
      },
      "execution_count": 13,
      "outputs": [
        {
          "output_type": "execute_result",
          "data": {
            "text/plain": [
              "<Axes: xlabel='Economic_Impact_Million_USD', ylabel='Count'>"
            ]
          },
          "metadata": {},
          "execution_count": 13
        },
        {
          "output_type": "display_data",
          "data": {
            "text/plain": [
              "<Figure size 640x480 with 1 Axes>"
            ],
            "image/png": "[encoded data removed]"
          },
          "metadata": {}
        }
      ]
    },
    {
      "cell_type": "markdown",
      "source": [
        "## Boxplots"
      ],
      "metadata": {
        "id": "1ThQo03X9fH9"
      }
    },
    {
      "cell_type": "code",
      "source": [
        "df.columns"
      ],
      "metadata": {
        "colab": {
          "base_uri": "https://localhost:8080/"
        },
        "id": "wMkPpKAs8X5I",
        "outputId": "60edf21e-07a0-4df3-e23e-ee82a2092f03"
      },
      "execution_count": 14,
      "outputs": [
        {
          "output_type": "execute_result",
          "data": {
            "text/plain": [
              "Index(['Year', 'Country', 'Region', 'Crop_Type', 'Average_Temperature_C',\n",
              "       'Total_Precipitation_mm', 'CO2_Emissions_MT', 'Crop_Yield_MT_per_HA',\n",
              "       'Extreme_Weather_Events', 'Irrigation_Access_%',\n",
              "       'Pesticide_Use_KG_per_HA', 'Fertilizer_Use_KG_per_HA',\n",
              "       'Soil_Health_Index', 'Adaptation_Strategies',\n",
              "       'Economic_Impact_Million_USD'],\n",
              "      dtype='object')"
            ]
          },
          "metadata": {},
          "execution_count": 14
        }
      ]
    },
    {
      "cell_type": "code",
      "source": [
        "variaveis = ['Average_Temperature_C','Total_Precipitation_mm',\n",
        "             'CO2_Emissions_MT', 'Crop_Yield_MT_per_HA',\n",
        "             'Total_Precipitation_mm', 'CO2_Emissions_MT',\n",
        "             'Crop_Yield_MT_per_HA','Soil_Health_Index',\n",
        "             'Economic_Impact_Million_USD']\n",
        "\n",
        "fig, axes = plt.subplots(1, len(variaveis), figsize=(15,6))\n",
        "\n",
        "for ax, variable in zip(axes, variaveis):\n",
        "    ax = sns.boxplot( y=variable, data=df, ax = ax)\n",
        "plt.tight_layout()"
      ],
      "metadata": {
        "colab": {
          "base_uri": "https://localhost:8080/",
          "height": 451
        },
        "id": "EPPhjEvl71E1",
        "outputId": "5c59cc69-8a58-4069-daee-d23394cba1b9"
      },
      "execution_count": 15,
      "outputs": [
        {
          "output_type": "display_data",
          "data": {
            "text/plain": [
              "<Figure size 1500x600 with 9 Axes>"
            ],
            "image/png": "[encoded data removed]"
          },
          "metadata": {}
        }
      ]
    },
    {
      "cell_type": "markdown",
      "source": [
        "## Correlação das variáveis"
      ],
      "metadata": {
        "id": "Bio8oNCm9qIO"
      }
    },
    {
      "cell_type": "code",
      "source": [
        "# Correação\n",
        "variables = ['Average_Temperature_C',\n",
        "             'Total_Precipitation_mm',\n",
        "             'CO2_Emissions_MT',\n",
        "             'Crop_Yield_MT_per_HA',\n",
        "             'Soil_Health_Index',\n",
        "             'Economic_Impact_Million_USD']\n",
        "sns.heatmap(df[variables].corr(), annot = True)"
      ],
      "metadata": {
        "colab": {
          "base_uri": "https://localhost:8080/",
          "height": 650
        },
        "id": "FlJGFLce9AjA",
        "outputId": "c498eae5-f0a7-4cc5-d3cd-c44e4bdb8b44"
      },
      "execution_count": 16,
      "outputs": [
        {
          "output_type": "execute_result",
          "data": {
            "text/plain": [
              "<Axes: >"
            ]
          },
          "metadata": {},
          "execution_count": 16
        },
        {
          "output_type": "display_data",
          "data": {
            "text/plain": [
              "<Figure size 640x480 with 2 Axes>"
            ],
            "image/png": "[encoded data removed]"
          },
          "metadata": {}
        }
      ]
    },
    {
      "cell_type": "markdown",
      "source": [
        "## Relatório usando profinling"
      ],
      "metadata": {
        "id": "ZC6xd38Nxq-F"
      }
    },
    {
      "cell_type": "code",
      "source": [
        "# %pip install https://github.com/pandas-profiling/pandas-profiling/archive/master.zip"
      ],
      "metadata": {
        "id": "LJL_O43eBjBZ"
      },
      "execution_count": 17,
      "outputs": []
    },
    {
      "cell_type": "code",
      "source": [
        "# from pandas_profiling import ProfileReport"
      ],
      "metadata": {
        "id": "j8ppDkUa96bm"
      },
      "execution_count": 18,
      "outputs": []
    },
    {
      "cell_type": "code",
      "source": [
        "# relatorio = ProfileReport(df)"
      ],
      "metadata": {
        "id": "ve-0DUH0Bhox"
      },
      "execution_count": 19,
      "outputs": []
    },
    {
      "cell_type": "code",
      "source": [
        "# relatorio.to_widgets()"
      ],
      "metadata": {
        "id": "MtOLg7BuBw5c"
      },
      "execution_count": 20,
      "outputs": []
    },
    {
      "cell_type": "code",
      "source": [
        "# relatorio.to_file(\"relatorio.html\")"
      ],
      "metadata": {
        "id": "kAbUwBUXB0DV"
      },
      "execution_count": 21,
      "outputs": []
    },
    {
      "cell_type": "code",
      "source": [
        "# from google.colab import files"
      ],
      "metadata": {
        "id": "l_syJbEF9UhW"
      },
      "execution_count": 22,
      "outputs": []
    },
    {
      "cell_type": "code",
      "source": [
        "# files.download(\"relatorio.html\")"
      ],
      "metadata": {
        "id": "9ADDRy9LCZRA"
      },
      "execution_count": 23,
      "outputs": []
    },
    {
      "cell_type": "code",
      "source": [
        "# # Mover o notebook atualizado para o repositório clonado\n",
        "# !mv Agro.ipynb /content/climate_change_impact_on_agriculture"
      ],
      "metadata": {
        "id": "WhDn40fV9gbn"
      },
      "execution_count": 24,
      "outputs": []
    },
    {
      "cell_type": "code",
      "source": [
        "# !ls"
      ],
      "metadata": {
        "id": "WbsKjGRtuZgP"
      },
      "execution_count": 25,
      "outputs": []
    },
    {
      "cell_type": "code",
      "source": [
        "# !ls /content/climate_change_impact_on_agriculture\n"
      ],
      "metadata": {
        "id": "YJ5LJ5pLuoGg"
      },
      "execution_count": 26,
      "outputs": []
    },
    {
      "cell_type": "code",
      "source": [
        "# !ls /content/climate_change_impact_on_agriculture/*.ipynb"
      ],
      "metadata": {
        "id": "znLBQXxHu-xP"
      },
      "execution_count": 27,
      "outputs": []
    },
    {
      "cell_type": "code",
      "source": [
        "# !ls /content/drive/MyDrive/Coder"
      ],
      "metadata": {
        "id": "5GqY_ooWvVQ6"
      },
      "execution_count": 28,
      "outputs": []
    },
    {
      "cell_type": "code",
      "source": [
        "# !mv /content/drive/MyDrive/Coder/* /content/climate_change_impact_on_agriculture/\n"
      ],
      "metadata": {
        "id": "HS6TjIRVv1qr"
      },
      "execution_count": 29,
      "outputs": []
    },
    {
      "cell_type": "code",
      "source": [
        "# # Entrar na pasta do repositório\n",
        "# %cd /content/climate_change_impact_on_agriculture"
      ],
      "metadata": {
        "id": "2Wv8vHguwVFw"
      },
      "execution_count": 30,
      "outputs": []
    },
    {
      "cell_type": "code",
      "source": [
        "# # Adicionar todos os arquivos ao commit\n",
        "# !git add ."
      ],
      "metadata": {
        "id": "YYD3eXwKw4-c"
      },
      "execution_count": 31,
      "outputs": []
    },
    {
      "cell_type": "code",
      "source": [
        "# # Criar um commit com uma mensagem\n",
        "# !git commit -m \"Movendo todos os arquivos da pasta Coder para o repositório\""
      ],
      "metadata": {
        "id": "a54VTc3Yw8y_"
      },
      "execution_count": 32,
      "outputs": []
    },
    {
      "cell_type": "code",
      "source": [
        "# # Enviar as mudanças para o GitHub\n",
        "# !git push"
      ],
      "metadata": {
        "id": "88NCJ78pwzrx"
      },
      "execution_count": 33,
      "outputs": []
    },
    {
      "cell_type": "code",
      "source": [
        "# # Reverter o último commit, mantendo as alterações nos arquivos\n",
        "# !git reset HEAD~1"
      ],
      "metadata": {
        "id": "ATq34WPoxDAQ"
      },
      "execution_count": 34,
      "outputs": []
    },
    {
      "cell_type": "code",
      "source": [
        "# !cat /content/drive/MyDrive/Coder/Agro.ipynb"
      ],
      "metadata": {
        "id": "PO4ZLu1xxh_2"
      },
      "execution_count": 35,
      "outputs": []
    },
    {
      "cell_type": "code",
      "source": [],
      "metadata": {
        "id": "R7K88Tkox24F"
      },
      "execution_count": 35,
      "outputs": []
    }
  ]
}